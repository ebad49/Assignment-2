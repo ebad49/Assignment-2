{
 "cells": [
  {
   "cell_type": "markdown",
   "metadata": {},
   "source": [
    "## 1. Divisibility Check of two numbers\n",
    "\n",
    "Write a Python program to check whether a number is completely divisible by another number. Accept two integer values form the user\n",
    "##### Program Console Sample Output 1:\n",
    "Enter numerator: 4\n",
    "\n",
    "Enter Denominator: 2\n",
    "\n",
    "Number 4 is Completely divisible by 2\n",
    "###### Program Console Sample Output 2:\n",
    "Enter numerator: 7\n",
    "\n",
    "Enter Denominator: 4\n",
    "\n",
    "Number 7 is not Completely divisible by 4"
   ]
  },
  {
   "cell_type": "code",
   "execution_count": 1,
   "metadata": {
    "scrolled": false
   },
   "outputs": [
    {
     "name": "stdout",
     "output_type": "stream",
     "text": [
      "Enter a Numerator4\n",
      "Enter a Denominator9\n",
      "9 is not completely divisible by 4\n"
     ]
    }
   ],
   "source": [
    "n1 = int(input(\"Enter a Numerator\"))\n",
    "n2 = int(input(\"Enter a Denominator\"))\n",
    "if n1%n2 == 0:\n",
    "    print(n2, \"is completely divisible by\",n1)\n",
    "else:\n",
    "    print(n2, \"is not completely divisible by\",n1,)"
   ]
  },
  {
   "cell_type": "markdown",
   "metadata": {},
   "source": [
    "## 2. Copy string n times\n",
    "Write a Python program to get a string which is n (non-negative integer) copies of a given string.\n",
    "##### Program Console Output:\n",
    "Enter String: Hi\n",
    "\n",
    "How many copies of String you need: 4\n",
    "\n",
    "4 Copies of Hi are HiHiHiHi"
   ]
  },
  {
   "cell_type": "code",
   "execution_count": 2,
   "metadata": {
    "scrolled": false
   },
   "outputs": [
    {
     "name": "stdout",
     "output_type": "stream",
     "text": [
      "Enter a StringHi\n",
      "How many copies of String you want4\n",
      "4 copies of Hi are HiHiHiHi\n"
     ]
    }
   ],
   "source": [
    "user_string = input(\"Enter a String\")\n",
    "user_times = int(input(\"How many copies of String you want\"))\n",
    "print(user_times,\"copies of\",user_string,\"are\",user_string*user_times)"
   ]
  },
  {
   "cell_type": "markdown",
   "metadata": {},
   "source": [
    "## 3. Vowel Tester\n",
    "Write a Python program to test whether a passed letter is a vowel or not\n",
    "#### Program Console Output 1:\n",
    "Enter a character: A\n",
    "\n",
    "Letter A is Vowel\n",
    "#### Program Console Output 2:\n",
    "Enter a character: e\n",
    "\n",
    "Letter e is Vowel\n",
    "#### Program Console Output 2:\n",
    "Enter a character: N\n",
    "Letter N is not Vowel"
   ]
  },
  {
   "cell_type": "code",
   "execution_count": 3,
   "metadata": {
    "scrolled": true
   },
   "outputs": [
    {
     "name": "stdout",
     "output_type": "stream",
     "text": [
      "enter an alphabet to check it is vowel or notV\n",
      "V is a consonant.\n"
     ]
    }
   ],
   "source": [
    "vowels = ('a','e','i','o','u')\n",
    "consonants = ('b','c','d','f','g','h','j','k','l','m','n','p','q','r','s','t','v','w','x','y','z')\n",
    "user_input = input(\"enter an alphabet to check it is vowel or not\")\n",
    "user_input.lower()\n",
    "if user_input.lower() in vowels:\n",
    "    print(user_input, \"is a vowel.\")\n",
    "elif user_input.lower() in consonants:\n",
    "    print(user_input, \"is a consonant.\")\n",
    "elif user_input not in vowel and consonants:\n",
    "    print(\"Plese enter a valid key.\")"
   ]
  },
  {
   "cell_type": "code",
   "execution_count": null,
   "metadata": {},
   "outputs": [],
   "source": [
    "## 4. Odd No.s\n",
    "Use the third argument of the range() function to make a list of the odd numbers from 1 to 20. Use a for loop to print each number."
   ]
  },
  {
   "cell_type": "code",
   "execution_count": 4,
   "metadata": {},
   "outputs": [
    {
     "name": "stdout",
     "output_type": "stream",
     "text": [
      "1\n",
      "3\n",
      "5\n",
      "7\n",
      "9\n",
      "11\n",
      "13\n",
      "15\n",
      "17\n",
      "19\n"
     ]
    }
   ],
   "source": [
    "for i in range (1,21,2):\n",
    "    print(i)"
   ]
  },
  {
   "cell_type": "markdown",
   "metadata": {},
   "source": [
    "## 5. Food Slicing\n",
    "Make a python program that contains your nine favourite dishes in a list called foods.Print the message, \n",
    "\n",
    "**The first three items in the list are:**\n",
    "\n",
    "Then use a slice to print the first three items from that program’s list.Print the message, \n",
    "\n",
    "**Three items from the middle of the list are:**\n",
    "\n",
    "Use a slice to print three items from the middle of the list.Print the message, \n",
    "\n",
    "**The last three items in the list are:**\n",
    "\n",
    "Use a slice to print the last three items in the list."
   ]
  },
  {
   "cell_type": "code",
   "execution_count": 5,
   "metadata": {},
   "outputs": [
    {
     "name": "stdout",
     "output_type": "stream",
     "text": [
      "The First three items in the list are: ['Zinger Burger', 'Pizza', 'Biryani']\n",
      "Three items from the middle of list are: ['Chicken Tikka', 'Kebabs', 'Salad']\n",
      "The last three items in the list are: ['BBQ', 'Nuggets', 'Samosa']\n"
     ]
    }
   ],
   "source": [
    "foods = ['Zinger Burger','Pizza','Biryani','Chicken Tikka','Kebabs','Salad','BBQ','Nuggets','Samosa']\n",
    "print(\"The First three items in the list are:\",foods[0:3])\n",
    "print(\"Three items from the middle of list are:\",foods[3:6])\n",
    "print(\"The last three items in the list are:\",foods[-3:])\n"
   ]
  },
  {
   "cell_type": "code",
   "execution_count": null,
   "metadata": {},
   "outputs": [],
   "source": []
  }
 ],
 "metadata": {
  "kernelspec": {
   "display_name": "Python 3",
   "language": "python",
   "name": "python3"
  },
  "language_info": {
   "codemirror_mode": {
    "name": "ipython",
    "version": 3
   },
   "file_extension": ".py",
   "mimetype": "text/x-python",
   "name": "python",
   "nbconvert_exporter": "python",
   "pygments_lexer": "ipython3",
   "version": "3.7.1"
  }
 },
 "nbformat": 4,
 "nbformat_minor": 2
}
